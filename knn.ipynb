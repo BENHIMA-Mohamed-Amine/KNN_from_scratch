{
 "cells": [
  {
   "cell_type": "code",
   "execution_count": 2,
   "metadata": {},
   "outputs": [],
   "source": [
    "import numpy as np\n",
    "import matplotlib.pyplot as plt\n",
    "import seaborn as sns\n",
    "from sklearn.model_selection import train_test_split\n",
    "from sklearn import datasets\n",
    "from collections import Counter"
   ]
  },
  {
   "cell_type": "code",
   "execution_count": 16,
   "metadata": {},
   "outputs": [],
   "source": [
    "# Function to calculate the Euclidean distance between two points\n",
    "def euclidean_distance(x1, x2):\n",
    "    # Square root of the sum of squared differences between corresponding elements\n",
    "    return np.sqrt(np.sum(np.power(x1-x2, 2)))\n",
    "\n",
    "# K-Nearest Neighbors (KNN) Classifier\n",
    "class KNN:\n",
    "    def __init__(self, k=3) -> None:\n",
    "        # Initialize the number of neighbors (default is 3)\n",
    "        self.k = k\n",
    "    \n",
    "    # Method to fit the model with training data\n",
    "    def fit(self, X, y):\n",
    "        # Store the training data\n",
    "        self.X_train = X\n",
    "        self.y_train = y\n",
    "\n",
    "    # Method to predict the labels of new data points\n",
    "    def predict(self, X):\n",
    "        # For each data point in X, predict its label\n",
    "        preds = [self._predict(x) for x in X]\n",
    "        return preds\n",
    "    \n",
    "    # Method to predict the label of a single data point\n",
    "    def _predict(self, x):\n",
    "        # Calculate distances between the input data point and all training data points\n",
    "        distances = [euclidean_distance(x, x_train) for x_train in self.X_train]\n",
    "\n",
    "        # Get the indices of the k nearest neighbors\n",
    "        k_indices = np.argsort(distances)[:self.k]\n",
    "\n",
    "        # Get the labels of the k nearest neighbors\n",
    "        k_nearest_labels = [self.y_train[i] for i in k_indices]\n",
    "\n",
    "        # Count the occurrences of each label among the k nearest neighbors\n",
    "        most_common = Counter(k_nearest_labels).most_common()\n",
    "\n",
    "        # Return the label with the highest frequency among the k nearest neighbors\n",
    "        return most_common[0][0]\n"
   ]
  },
  {
   "cell_type": "code",
   "execution_count": 17,
   "metadata": {},
   "outputs": [
    {
     "data": {
      "text/plain": [
       "0.9736842105263158"
      ]
     },
     "execution_count": 17,
     "metadata": {},
     "output_type": "execute_result"
    }
   ],
   "source": [
    "# Load the Iris dataset\n",
    "iris = datasets.load_iris()\n",
    "X, y = iris.data, iris.target\n",
    "\n",
    "# Split the dataset into training and testing sets\n",
    "X_train, X_test, y_train, y_test = train_test_split(X, y)\n",
    "\n",
    "# Initialize a KNN classifier with k=20\n",
    "knn = KNN(20)\n",
    "\n",
    "# Train the KNN classifier on the training data\n",
    "knn.fit(X_train, y_train)\n",
    "\n",
    "# Predict the labels for the test data\n",
    "preds = knn.predict(X_test)\n",
    "\n",
    "# Calculate the accuracy of the predictions\n",
    "acc = np.sum(np.equal(preds, y_test)) / len(y_test)\n",
    "\n",
    "# Print the accuracy\n",
    "acc"
   ]
  }
 ],
 "metadata": {
  "kernelspec": {
   "display_name": "base",
   "language": "python",
   "name": "python3"
  },
  "language_info": {
   "codemirror_mode": {
    "name": "ipython",
    "version": 3
   },
   "file_extension": ".py",
   "mimetype": "text/x-python",
   "name": "python",
   "nbconvert_exporter": "python",
   "pygments_lexer": "ipython3",
   "version": "3.10.9"
  }
 },
 "nbformat": 4,
 "nbformat_minor": 2
}
